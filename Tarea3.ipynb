{
 "cells": [
  {
   "cell_type": "code",
   "execution_count": 1,
   "metadata": {
    "collapsed": true
   },
   "outputs": [],
   "source": [
    "import pandas as pd\n",
    "import numpy as np\n",
    "import matplotlib.pyplot as plt\n",
    "from sklearn import svm\n",
    "from sklearn import datasets\n",
    "from sklearn.datasets import make_classification\n",
    "from sklearn.datasets import make_blobs, make_moons, make_circles\n",
    "from sklearn.model_selection import train_test_split\n",
    "import seaborn as sns\n",
    "from sklearn.model_selection import train_test_split\n",
    "from sklearn.model_selection import cross_val_score\n",
    "from sklearn import preprocessing\n",
    "from sklearn import linear_model\n",
    "%matplotlib inline"
   ]
  },
  {
   "cell_type": "code",
   "execution_count": 2,
   "metadata": {
    "collapsed": true
   },
   "outputs": [],
   "source": [
    "data = pd.read_csv(\"https://raw.githubusercontent.com/ComputoCienciasUniandes/MetodosComputacionalesDatos/master/homework/2017-10/planetas/lowp_finalresults.csv\")"
   ]
  },
  {
   "cell_type": "code",
   "execution_count": 3,
   "metadata": {
    "collapsed": true
   },
   "outputs": [],
   "source": [
    "dat= pd.read_csv('https://raw.githubusercontent.com/ComputoCienciasUniandes/MetodosComputacionalesDatos/master/homework/2017-10/planetas/highp_finalresults.csv')"
   ]
  },
  {
   "cell_type": "code",
   "execution_count": 17,
   "metadata": {
    "collapsed": true
   },
   "outputs": [],
   "source": [
    "#cuenta el numero de planetas\n",
    "def count_planet(datos):\n",
    "    planets=datos['ident']\n",
    "    sistems=np.zeros(2975)\n",
    "    for i in range(np.size(planets)):\n",
    "        sistems[planets[i]]=sistems[planets[i]]+1\n",
    "    return sistems\n",
    "\n",
    "#Calcula Masa total del sitema\n",
    "def count_totalMass(datos):\n",
    "    planets=datos['ident']\n",
    "    Mass=datos['emepla(i)/emet']\n",
    "    MassSis=np.zeros(2975)\n",
    "    for i in range(np.size(planets)):\n",
    "        MassSis[planets[i]]=MassSis[planets[i]]+Mass[i]\n",
    "#   converter(MassSis)\n",
    "    return MassSis\n",
    "\n",
    "#convierte masas terrestreas a masas solares\n",
    "#def converter(cosas):\n",
    "#    for i in range(np.size(cosas)):\n",
    "#        cosas[i]=cosas[i]*0.000003003\n",
    "\n",
    "#calcula masa del disco\n",
    "def Mass_Disk(datos):\n",
    "    planets=datos['ident']\n",
    "    Mass_Disk=datos['emed']\n",
    "    Mass_D=np.zeros(2975)\n",
    "    for i in range(np.size(planets)):\n",
    "        Mass_D[planets[i]]=float(Mass_Disk[i])\n",
    "    return Mass_D\n",
    "\n",
    "#calcula la eficiencia de Masa\n",
    "def Efi_Mass(datos):\n",
    "    Disk=Mass_Disk(datos)\n",
    "    Total=count_totalMass(datos)\n",
    "    Efi_Mass=np.zeros(2975)\n",
    "    for i in range(2975):\n",
    "        Efi_Mass[i]=float(Disk[i]/Total[i])\n",
    "    return Efi_Mass\n",
    "\n",
    "def initial_parameters(datos):\n",
    "    planets=datos['ident']\n",
    "    init_emestar=datos['emestar']\n",
    "    init_rc=datos['rc']\n",
    "    init_qest=datos['qest']\n",
    "    init_sigma=datos['sigmag_0']\n",
    "    init_emed=datos['emed']\n",
    "    init_emetal=datos['emetal']\n",
    "    init_taugas=datos['taugas']\n",
    "    initial=np.zeros([2975,7])\n",
    "    for i in range(np.size(planets)):            \n",
    "        initial[planets[i],0]=init_emestar[planets[i]]\n",
    "        initial[planets[i],1]=init_rc[planets[i]]\n",
    "        initial[planets[i],2]=init_qest[planets[i]]\n",
    "        initial[planets[i],3]=init_sigma[planets[i]]\n",
    "        initial[planets[i],4]=init_emed[planets[i]]\n",
    "        initial[planets[i],5]=init_emetal[planets[i]]\n",
    "        initial[planets[i],6]=init_taugas[planets[i]]\n",
    "    return initial"
   ]
  },
  {
   "cell_type": "code",
   "execution_count": 18,
   "metadata": {
    "collapsed": false
   },
   "outputs": [
    {
     "name": "stderr",
     "output_type": "stream",
     "text": [
      "C:\\Users\\Gustavo\\Anaconda3\\lib\\site-packages\\ipykernel\\__main__.py:39: RuntimeWarning: invalid value encountered in double_scalars\n"
     ]
    }
   ],
   "source": [
    "Num_planetsLow=count_planet(data)\n",
    "Num_planetsHigh=count_planet(dat)\n",
    "Mass_SisHigh=count_totalMass(dat)\n",
    "Mass_SisLow=count_totalMass(data)\n",
    "Mass_EfiHigh=Efi_Mass(dat)\n",
    "Mass_EfiLow=Efi_Mass(data)\n",
    "initialHigh=initial_parameters(dat)\n",
    "initialLow=initial_parameters(data)"
   ]
  },
  {
   "cell_type": "code",
   "execution_count": 19,
   "metadata": {
    "collapsed": true
   },
   "outputs": [],
   "source": [
    "Xtt=initialHigh[:int(2975*0.8),:]\n",
    "Xv=initialHigh[int(2975*0.8):,:]\n",
    "Y1tt=Mass_SisHigh[:int(2975*0.8)]\n",
    "Y2tt=Mass_EfiHigh[:int(2975*0.8)]\n",
    "Y3tt=Num_planetsHigh[:int(2975*0.8)]\n",
    "Y1v=Mass_SisHigh[int(2975*0.8):]\n",
    "Y2v=Mass_EfiHigh[int(2975*0.8):]\n",
    "Y3v=Num_planetsHigh[int(2975*0.8):]"
   ]
  },
  {
   "cell_type": "code",
   "execution_count": 20,
   "metadata": {
    "collapsed": true
   },
   "outputs": [],
   "source": [
    "X1_train, X1_test, Y1_train, Y1_test = train_test_split(Xtt, Y1tt)\n",
    "X2_train, X2_test, Y2_train, Y2_test = train_test_split(Xtt, Y2tt)\n",
    "X3_train, X3_test, Y3_train, Y3_test = train_test_split(Xtt, Y3tt)"
   ]
  },
  {
   "cell_type": "code",
   "execution_count": null,
   "metadata": {
    "collapsed": true
   },
   "outputs": [],
   "source": []
  },
  {
   "cell_type": "code",
   "execution_count": 21,
   "metadata": {
    "collapsed": true
   },
   "outputs": [],
   "source": [
    "def FT(predict, test):\n",
    "    FalsoPositivo=0.\n",
    "    Acierto=0.\n",
    "    for i in range(len(predict)):\n",
    "        if(predict[i]==test[i]):\n",
    "            Acierto+=1\n",
    "        elif(test[i]==0 and predict[i]==1):\n",
    "            FalsoPositivo+=1\n",
    "    return Acierto/len(predict),FalsoPositivo/len(predict)"
   ]
  },
  {
   "cell_type": "code",
   "execution_count": 26,
   "metadata": {
    "collapsed": true
   },
   "outputs": [],
   "source": [
    "def gauss(C,gamma,X_train,X_test,Y_train,Y_test):\n",
    "    kernel_svc = svm.SVR(C=C, kernel='rbf', gamma=gamma)\n",
    "    kernel_svc.fit(X_train,Y_train)\n",
    "    Y_predict = kernel_svc.predict(X_test)\n",
    "    ac,Fp=FT(Y_predict,Y_test)\n",
    "    return ac,Fp"
   ]
  },
  {
   "cell_type": "code",
   "execution_count": 27,
   "metadata": {
    "collapsed": true
   },
   "outputs": [],
   "source": [
    "def solve_gauss(X_train,X_test,Y_train,Y_test):\n",
    "    C=np.linspace(0.1,100,20)\n",
    "    gamma=np.linspace(0.00001,100,60)\n",
    "    n=len(C)*len(gamma)\n",
    "    gaussx=[]\n",
    "    gaussy=[]\n",
    "    maxAC=0\n",
    "    minFP=1\n",
    "    Cc=0\n",
    "    G=0\n",
    "    for i in range(len(C)):\n",
    "        for j in range(len(gamma)):\n",
    "            ac, fp = gauss(C[i],gamma[j],X_train,X_test,Y_train,Y_test)\n",
    "            if(ac>maxAC):\n",
    "                maxAC=ac\n",
    "                Cc=C[i]\n",
    "                G=gamma[i]\n",
    "            gaussx.append(ac)\n",
    "            gaussy.append(fp)\n",
    "    plt.plot(gaussx,gaussy)\n",
    "    plt.show()"
   ]
  },
  {
   "cell_type": "code",
   "execution_count": 28,
   "metadata": {
    "collapsed": false
   },
   "outputs": [
    {
     "data": {
      "image/png": "[encoded data removed]",
      "text/plain": [
       "<matplotlib.figure.Figure at 0x18fa42cd7f0>"
      ]
     },
     "metadata": {},
     "output_type": "display_data"
    }
   ],
   "source": [
    "solve_gauss(X1_train, X1_test, Y1_train, Y1_test)"
   ]
  },
  {
   "cell_type": "code",
   "execution_count": 16,
   "metadata": {
    "collapsed": false
   },
   "outputs": [
    {
     "data": {
      "image/png": "[encoded data removed]",
      "text/plain": [
       "<matplotlib.figure.Figure at 0x18fa40a34a8>"
      ]
     },
     "metadata": {},
     "output_type": "display_data"
    }
   ],
   "source": [
    "solve_gauss(X3_train, X3_test, Y3_train, Y3_test)"
   ]
  },
  {
   "cell_type": "code",
   "execution_count": 12,
   "metadata": {
    "collapsed": false
   },
   "outputs": [],
   "source": [
    "clf = linear_model.Lasso(alpha=0.0000000001)"
   ]
  },
  {
   "cell_type": "code",
   "execution_count": 13,
   "metadata": {
    "collapsed": false
   },
   "outputs": [
    {
     "name": "stderr",
     "output_type": "stream",
     "text": [
      "C:\\Users\\Gustavo\\Anaconda3\\lib\\site-packages\\sklearn\\linear_model\\coordinate_descent.py:484: ConvergenceWarning: Objective did not converge. You might want to increase the number of iterations. Fitting data with very small alpha may cause precision problems.\n",
      "  ConvergenceWarning)\n"
     ]
    },
    {
     "data": {
      "text/plain": [
       "Lasso(alpha=1e-10, copy_X=True, fit_intercept=True, max_iter=1000,\n",
       "   normalize=False, positive=False, precompute=False, random_state=None,\n",
       "   selection='cyclic', tol=0.0001, warm_start=False)"
      ]
     },
     "execution_count": 13,
     "metadata": {},
     "output_type": "execute_result"
    }
   ],
   "source": [
    "clf.fit(X1_train, Y1_train)"
   ]
  },
  {
   "cell_type": "code",
   "execution_count": 14,
   "metadata": {
    "collapsed": false
   },
   "outputs": [
    {
     "data": {
      "text/plain": [
       "array([  1.50530535e-32,   3.37020163e+00,  -4.20609124e+00,\n",
       "         9.12019050e-01,  -1.26951179e+03,   1.17809697e+01,\n",
       "        -8.10125141e-06])"
      ]
     },
     "execution_count": 14,
     "metadata": {},
     "output_type": "execute_result"
    }
   ],
   "source": [
    "clf.coef_"
   ]
  },
  {
   "cell_type": "code",
   "execution_count": 15,
   "metadata": {
    "collapsed": false
   },
   "outputs": [
    {
     "data": {
      "text/plain": [
       "0.0033311614085146379"
      ]
     },
     "execution_count": 15,
     "metadata": {},
     "output_type": "execute_result"
    }
   ],
   "source": [
    "clf.score(X1_test, Y1_test)"
   ]
  },
  {
   "cell_type": "code",
   "execution_count": 16,
   "metadata": {
    "collapsed": false
   },
   "outputs": [
    {
     "name": "stderr",
     "output_type": "stream",
     "text": [
      "C:\\Users\\Gustavo\\Anaconda3\\lib\\site-packages\\sklearn\\linear_model\\coordinate_descent.py:484: ConvergenceWarning: Objective did not converge. You might want to increase the number of iterations. Fitting data with very small alpha may cause precision problems.\n",
      "  ConvergenceWarning)\n",
      "C:\\Users\\Gustavo\\Anaconda3\\lib\\site-packages\\sklearn\\linear_model\\coordinate_descent.py:484: ConvergenceWarning: Objective did not converge. You might want to increase the number of iterations. Fitting data with very small alpha may cause precision problems.\n",
      "  ConvergenceWarning)\n",
      "C:\\Users\\Gustavo\\Anaconda3\\lib\\site-packages\\sklearn\\linear_model\\coordinate_descent.py:484: ConvergenceWarning: Objective did not converge. You might want to increase the number of iterations. Fitting data with very small alpha may cause precision problems.\n",
      "  ConvergenceWarning)\n",
      "C:\\Users\\Gustavo\\Anaconda3\\lib\\site-packages\\sklearn\\linear_model\\coordinate_descent.py:484: ConvergenceWarning: Objective did not converge. You might want to increase the number of iterations. Fitting data with very small alpha may cause precision problems.\n",
      "  ConvergenceWarning)\n",
      "C:\\Users\\Gustavo\\Anaconda3\\lib\\site-packages\\sklearn\\linear_model\\coordinate_descent.py:484: ConvergenceWarning: Objective did not converge. You might want to increase the number of iterations. Fitting data with very small alpha may cause precision problems.\n",
      "  ConvergenceWarning)\n"
     ]
    },
    {
     "data": {
      "text/plain": [
       "array([-0.00048492, -0.01341326, -0.00963235, -0.02427051,  0.00072608])"
      ]
     },
     "execution_count": 16,
     "metadata": {},
     "output_type": "execute_result"
    }
   ],
   "source": [
    "cross_val_score(clf, Xtt, Y1tt, cv=5)"
   ]
  },
  {
   "cell_type": "code",
   "execution_count": null,
   "metadata": {
    "collapsed": true
   },
   "outputs": [],
   "source": []
  }
 ],
 "metadata": {
  "kernelspec": {
   "display_name": "Python 3",
   "language": "python",
   "name": "python3"
  },
  "language_info": {
   "codemirror_mode": {
    "name": "ipython",
    "version": 3
   },
   "file_extension": ".py",
   "mimetype": "text/x-python",
   "name": "python",
   "nbconvert_exporter": "python",
   "pygments_lexer": "ipython3",
   "version": "3.6.0"
  }
 },
 "nbformat": 4,
 "nbformat_minor": 2
}
