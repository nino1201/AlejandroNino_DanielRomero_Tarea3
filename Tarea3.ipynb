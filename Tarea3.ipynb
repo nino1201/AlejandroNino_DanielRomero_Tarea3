{
 "cells": [
  {
   "cell_type": "code",
   "execution_count": 89,
   "metadata": {
    "collapsed": true
   },
   "outputs": [],
   "source": [
    "import pandas as pd\n",
    "import numpy as np\n",
    "import matplotlib.pyplot as plt\n",
    "\n",
    "from sklearn import svm\n",
    "from sklearn import datasets\n",
    "from sklearn.datasets import make_classification\n",
    "from sklearn.datasets import make_blobs, make_moons, make_circles\n",
    "from sklearn.model_selection import train_test_split\n",
    "import seaborn as sns\n",
    "from sklearn.model_selection import train_test_split\n",
    "from sklearn.model_selection import cross_val_score\n",
    "from sklearn import preprocessing\n",
    "from sklearn import linear_model\n",
    "from sklearn import metrics\n",
    "%matplotlib inline"
   ]
  },
  {
   "cell_type": "code",
   "execution_count": 2,
   "metadata": {
    "collapsed": false,
    "scrolled": true
   },
   "outputs": [
    {
     "data": {
      "text/html": [
       "<div>\n",
       "<table border=\"1\" class=\"dataframe\">\n",
       "  <thead>\n",
       "    <tr style=\"text-align: right;\">\n",
       "      <th></th>\n",
       "      <th>ident</th>\n",
       "      <th>it</th>\n",
       "      <th>t</th>\n",
       "      <th>a(i)</th>\n",
       "      <th>emegas(i)</th>\n",
       "      <th>emepla(i)/emet</th>\n",
       "      <th>rplanet(i)/radtie</th>\n",
       "      <th>emestar</th>\n",
       "      <th>rc</th>\n",
       "      <th>qest</th>\n",
       "      <th>sigmag_0</th>\n",
       "      <th>emed</th>\n",
       "      <th>gama</th>\n",
       "      <th>apert</th>\n",
       "      <th>fpert</th>\n",
       "      <th>constmigI</th>\n",
       "      <th>emetal</th>\n",
       "      <th>taugas</th>\n",
       "    </tr>\n",
       "  </thead>\n",
       "  <tbody>\n",
       "    <tr>\n",
       "      <th>0</th>\n",
       "      <td>0</td>\n",
       "      <td>199992</td>\n",
       "      <td>20000001.0</td>\n",
       "      <td>0.026231</td>\n",
       "      <td>0.001185</td>\n",
       "      <td>1.710156</td>\n",
       "      <td>1.8388847169925493</td>\n",
       "      <td>4.368174e+32</td>\n",
       "      <td>59.88237</td>\n",
       "      <td>1.110726</td>\n",
       "      <td>51.287674</td>\n",
       "      <td>0.13</td>\n",
       "      <td>1.0</td>\n",
       "      <td>0.1</td>\n",
       "      <td>1.0</td>\n",
       "      <td>0.1</td>\n",
       "      <td>0.07707</td>\n",
       "      <td>9268935.0</td>\n",
       "    </tr>\n",
       "    <tr>\n",
       "      <th>1</th>\n",
       "      <td>0</td>\n",
       "      <td>199992</td>\n",
       "      <td>20000001.0</td>\n",
       "      <td>2.170653</td>\n",
       "      <td>0.000000</td>\n",
       "      <td>1.646707</td>\n",
       "      <td>1.8167126017756039</td>\n",
       "      <td>4.368174e+32</td>\n",
       "      <td>59.88237</td>\n",
       "      <td>1.110726</td>\n",
       "      <td>51.287674</td>\n",
       "      <td>0.13</td>\n",
       "      <td>1.0</td>\n",
       "      <td>0.1</td>\n",
       "      <td>1.0</td>\n",
       "      <td>0.1</td>\n",
       "      <td>0.07707</td>\n",
       "      <td>9268935.0</td>\n",
       "    </tr>\n",
       "    <tr>\n",
       "      <th>2</th>\n",
       "      <td>0</td>\n",
       "      <td>199992</td>\n",
       "      <td>20000001.0</td>\n",
       "      <td>4.251030</td>\n",
       "      <td>0.000000</td>\n",
       "      <td>1.059631</td>\n",
       "      <td>1.5688831343393115</td>\n",
       "      <td>4.368174e+32</td>\n",
       "      <td>59.88237</td>\n",
       "      <td>1.110726</td>\n",
       "      <td>51.287674</td>\n",
       "      <td>0.13</td>\n",
       "      <td>1.0</td>\n",
       "      <td>0.1</td>\n",
       "      <td>1.0</td>\n",
       "      <td>0.1</td>\n",
       "      <td>0.07707</td>\n",
       "      <td>9268935.0</td>\n",
       "    </tr>\n",
       "    <tr>\n",
       "      <th>3</th>\n",
       "      <td>0</td>\n",
       "      <td>199992</td>\n",
       "      <td>20000001.0</td>\n",
       "      <td>5.468018</td>\n",
       "      <td>0.000000</td>\n",
       "      <td>0.839156</td>\n",
       "      <td>1.4520602505243447</td>\n",
       "      <td>4.368174e+32</td>\n",
       "      <td>59.88237</td>\n",
       "      <td>1.110726</td>\n",
       "      <td>51.287674</td>\n",
       "      <td>0.13</td>\n",
       "      <td>1.0</td>\n",
       "      <td>0.1</td>\n",
       "      <td>1.0</td>\n",
       "      <td>0.1</td>\n",
       "      <td>0.07707</td>\n",
       "      <td>9268935.0</td>\n",
       "    </tr>\n",
       "    <tr>\n",
       "      <th>4</th>\n",
       "      <td>0</td>\n",
       "      <td>199992</td>\n",
       "      <td>20000001.0</td>\n",
       "      <td>8.935596</td>\n",
       "      <td>0.000000</td>\n",
       "      <td>0.367578</td>\n",
       "      <td>1.1032029110256696</td>\n",
       "      <td>4.368174e+32</td>\n",
       "      <td>59.88237</td>\n",
       "      <td>1.110726</td>\n",
       "      <td>51.287674</td>\n",
       "      <td>0.13</td>\n",
       "      <td>1.0</td>\n",
       "      <td>0.1</td>\n",
       "      <td>1.0</td>\n",
       "      <td>0.1</td>\n",
       "      <td>0.07707</td>\n",
       "      <td>9268935.0</td>\n",
       "    </tr>\n",
       "  </tbody>\n",
       "</table>\n",
       "</div>"
      ],
      "text/plain": [
       "   ident      it           t      a(i)  emegas(i)  emepla(i)/emet  \\\n",
       "0      0  199992  20000001.0  0.026231   0.001185        1.710156   \n",
       "1      0  199992  20000001.0  2.170653   0.000000        1.646707   \n",
       "2      0  199992  20000001.0  4.251030   0.000000        1.059631   \n",
       "3      0  199992  20000001.0  5.468018   0.000000        0.839156   \n",
       "4      0  199992  20000001.0  8.935596   0.000000        0.367578   \n",
       "\n",
       "             rplanet(i)/radtie       emestar        rc      qest   sigmag_0  \\\n",
       "0     1.8388847169925493        4.368174e+32  59.88237  1.110726  51.287674   \n",
       "1     1.8167126017756039        4.368174e+32  59.88237  1.110726  51.287674   \n",
       "2     1.5688831343393115        4.368174e+32  59.88237  1.110726  51.287674   \n",
       "3     1.4520602505243447        4.368174e+32  59.88237  1.110726  51.287674   \n",
       "4     1.1032029110256696        4.368174e+32  59.88237  1.110726  51.287674   \n",
       "\n",
       "   emed  gama  apert  fpert  constmigI   emetal     taugas  \n",
       "0  0.13   1.0    0.1    1.0        0.1  0.07707  9268935.0  \n",
       "1  0.13   1.0    0.1    1.0        0.1  0.07707  9268935.0  \n",
       "2  0.13   1.0    0.1    1.0        0.1  0.07707  9268935.0  \n",
       "3  0.13   1.0    0.1    1.0        0.1  0.07707  9268935.0  \n",
       "4  0.13   1.0    0.1    1.0        0.1  0.07707  9268935.0  "
      ]
     },
     "execution_count": 2,
     "metadata": {},
     "output_type": "execute_result"
    }
   ],
   "source": [
    "dataL = pd.read_csv(\"https://raw.githubusercontent.com/ComputoCienciasUniandes/MetodosComputacionalesDatos/master/homework/2017-10/planetas/lowp_finalresults.csv\")\n",
    "dataH = pd.read_csv('https://raw.githubusercontent.com/ComputoCienciasUniandes/MetodosComputacionalesDatos/master/homework/2017-10/planetas/highp_finalresults.csv')\n",
    "dataL.head()"
   ]
  },
  {
   "cell_type": "code",
   "execution_count": 3,
   "metadata": {
    "collapsed": false
   },
   "outputs": [],
   "source": [
    "X_L = dataL.drop(['emegas(i)','emepla(i)/emet'],inplace=False,axis=1).groupby(['ident']).mean()\n",
    "X_H = dataH.drop(['emegas(i)','emepla(i)/emet'],inplace=False,axis=1).groupby(['ident']).mean()"
   ]
  },
  {
   "cell_type": "code",
   "execution_count": 4,
   "metadata": {
    "collapsed": true
   },
   "outputs": [],
   "source": [
    "#varibales independientes: \n",
    "#numero de planetas\n",
    "Planetas_H = dataH.groupby(['ident']).size().get_values()\n",
    "Planetas_L = dataL.groupby(['ident']).size().get_values()\n",
    "#mas total de planetas\n",
    "masa_H = dataH.groupby(['ident'])['emepla(i)/emet'].sum().get_values()\n",
    "masa_L = dataL.groupby(['ident'])['emepla(i)/emet'].sum().get_values()\n",
    "#eficiencia de masa: \n",
    "Em_H = masa_H/dataH.groupby(['ident'])['emed'].mean().get_values()\n",
    "Em_L = masa_L/dataL.groupby(['ident'])['emed'].mean().get_values()"
   ]
  },
  {
   "cell_type": "code",
   "execution_count": 5,
   "metadata": {
    "collapsed": false
   },
   "outputs": [
    {
     "data": {
      "text/plain": [
       "array([[ 0.31019953,  0.        ,  1.49602166, ..., -1.26950241,\n",
       "         0.40339121,  2.04608931],\n",
       "       [ 0.24635915,  0.        , -0.71532753, ..., -0.6347512 ,\n",
       "        -0.38453134, -0.19516564],\n",
       "       [ 0.31031026,  0.        ,  2.83438615, ..., -1.26950241,\n",
       "         2.43371264,  2.09349159],\n",
       "       ..., \n",
       "       [-1.09545156,  0.        , -0.79698783, ..., -0.6347512 ,\n",
       "        -0.13235122, -0.161002  ],\n",
       "       [ 0.30399821,  0.        ,  0.08178531, ..., -1.26950241,\n",
       "        -0.74662793,  1.92465158],\n",
       "       [ 0.30366599,  0.        , -0.03435897, ..., -1.26950241,\n",
       "         1.93943245,  1.43797598]])"
      ]
     },
     "execution_count": 5,
     "metadata": {},
     "output_type": "execute_result"
    }
   ],
   "source": [
    "scaler = preprocessing.StandardScaler().fit(X_H)\n",
    "scaler.transform(X_H)"
   ]
  },
  {
   "cell_type": "code",
   "execution_count": 6,
   "metadata": {
    "collapsed": false
   },
   "outputs": [
    {
     "data": {
      "text/plain": [
       "array([[ 0.3167378 ,  0.        ,  2.09856586, ..., -1.04720195,\n",
       "         0.39214288,  2.04063229],\n",
       "       [ 0.26248232,  0.        , -0.77194317, ..., -1.04720195,\n",
       "        -0.39885956, -0.19632769],\n",
       "       [ 0.31690171,  0.        ,  2.49744347, ..., -1.04720195,\n",
       "         2.43040056,  2.08794374],\n",
       "       ..., \n",
       "       [-1.13597595,  0.        , -0.83510441, ..., -1.04720195,\n",
       "        -0.14569369, -0.16222951],\n",
       "       [ 0.3088153 ,  0.        ,  0.34193732, ..., -1.04720195,\n",
       "        -0.76237153,  1.91942728],\n",
       "       [ 0.31116473,  0.        ,  0.12942822, ..., -1.04720195,\n",
       "         1.93418829,  1.43368431]])"
      ]
     },
     "execution_count": 6,
     "metadata": {},
     "output_type": "execute_result"
    }
   ],
   "source": [
    "scaler = preprocessing.StandardScaler().fit(X_L)\n",
    "scaler.transform(X_L)"
   ]
  },
  {
   "cell_type": "code",
   "execution_count": 9,
   "metadata": {
    "collapsed": false
   },
   "outputs": [],
   "source": [
    "XPH_train, XPH_test, YPH_train, YPH_test = train_test_split(X_H, Planetas_H)\n",
    "XmH_train, XmH_test, YmH_train, YmH_test = train_test_split(X_H, masa_H)\n",
    "XEH_train, XEH_test, YEH_train, YEH_test = train_test_split(X_H, Em_H)"
   ]
  },
  {
   "cell_type": "code",
   "execution_count": 99,
   "metadata": {
    "collapsed": true
   },
   "outputs": [],
   "source": [
    "XPL_train, XPL_test, YPL_train, YPL_test = train_test_split(X_L, Planetas_L)\n",
    "XmL_train, XmL_test, YmL_train, YmL_test = train_test_split(X_L, masa_L)\n",
    "XEL_train, XEL_test, YEL_train, YEL_test = train_test_split(X_L, Em_L)"
   ]
  },
  {
   "cell_type": "code",
   "execution_count": 20,
   "metadata": {
    "collapsed": true
   },
   "outputs": [],
   "source": [
    "def gauss(C,gamma,X_train,X_test,Y_train,Y_test):\n",
    "    kernel_svr = svm.SVR(C=C, kernel='rbf', gamma=gamma)\n",
    "    kernel_svr.fit(X_train,Y_train)\n",
    "    rr=kernel_svr.score(X_test,Y_test)\n",
    "    return rr"
   ]
  },
  {
   "cell_type": "code",
   "execution_count": 103,
   "metadata": {
    "collapsed": true
   },
   "outputs": [],
   "source": [
    "def solve_gauss(X_train,X_test,Y_train,Y_test):\n",
    "    C=np.linspace(1000,10000,4)\n",
    "    gamma=np.linspace(0.00001,1000,4)\n",
    "    n=len(C)*len(gamma)\n",
    "    RR=[]\n",
    "    for i in range(len(C)):\n",
    "        for j in range(len(gamma)):\n",
    "            rr= gauss(C[i],gamma[j],X_train,X_test,Y_train,Y_test)\n",
    "            RR.append(rr)\n",
    "    return RR "
   ]
  },
  {
   "cell_type": "code",
   "execution_count": 26,
   "metadata": {
    "collapsed": true
   },
   "outputs": [],
   "source": [
    "def lineal(C,X_train, X_test, Y_train, Y_test):\n",
    "    linear_svr = svm.SVR(C=C, kernel='linear')\n",
    "    linear_svr.fit(X_train,Y_train)\n",
    "    rr=linear_svr.score(X_test,Y_test)\n",
    "    return rr"
   ]
  },
  {
   "cell_type": "code",
   "execution_count": 30,
   "metadata": {
    "collapsed": false
   },
   "outputs": [],
   "source": [
    "def solve_linear(X_train, X_test, Y_train, Y_test):\n",
    "    C=np.linspace(1,1000,16)\n",
    "    RR=[]\n",
    "    for i in range(len(C)):\n",
    "        rr= lineal(C[i],X_train, X_test, Y_train, Y_test)\n",
    "        RR.append(rr)\n",
    "    return RR "
   ]
  },
  {
   "cell_type": "code",
   "execution_count": 78,
   "metadata": {
    "collapsed": false,
    "scrolled": true
   },
   "outputs": [],
   "source": [
    "from sklearn import tree\n",
    "def trees(X_train, X_test, Y_train, Y_test,m):\n",
    "    trees=tree.DecisionTreeRegressor(criterion=m)\n",
    "    trees.fit(X_train, Y_train)\n",
    "    print (trees.score(X_test,Y_test))"
   ]
  },
  {
   "cell_type": "code",
   "execution_count": 95,
   "metadata": {
    "collapsed": false
   },
   "outputs": [
    {
     "ename": "AttributeError",
     "evalue": "'function' object has no attribute 'MLPRegressor'",
     "output_type": "error",
     "traceback": [
      "\u001b[0;31m---------------------------------------------------------------------------\u001b[0m",
      "\u001b[0;31mAttributeError\u001b[0m                            Traceback (most recent call last)",
      "\u001b[0;32m<ipython-input-95-7b507d45218f>\u001b[0m in \u001b[0;36m<module>\u001b[0;34m()\u001b[0m\n\u001b[1;32m      4\u001b[0m     \u001b[0mneural\u001b[0m\u001b[1;33m.\u001b[0m\u001b[0mfit\u001b[0m\u001b[1;33m(\u001b[0m\u001b[0mX_train\u001b[0m\u001b[1;33m,\u001b[0m\u001b[0mY_train\u001b[0m\u001b[1;33m)\u001b[0m\u001b[1;33m\u001b[0m\u001b[0m\n\u001b[1;32m      5\u001b[0m     \u001b[0mprint\u001b[0m \u001b[1;33m(\u001b[0m\u001b[0mneural\u001b[0m\u001b[1;33m.\u001b[0m\u001b[0mscore\u001b[0m\u001b[1;33m(\u001b[0m\u001b[0mX_test\u001b[0m\u001b[1;33m,\u001b[0m\u001b[0mY_test\u001b[0m\u001b[1;33m)\u001b[0m\u001b[1;33m)\u001b[0m\u001b[1;33m\u001b[0m\u001b[0m\n\u001b[0;32m----> 6\u001b[0;31m \u001b[0mneural_network\u001b[0m\u001b[1;33m(\u001b[0m\u001b[0mXPH_train\u001b[0m\u001b[1;33m,\u001b[0m \u001b[0mXPH_test\u001b[0m\u001b[1;33m,\u001b[0m \u001b[0mYPH_train\u001b[0m\u001b[1;33m,\u001b[0m \u001b[0mYPH_test\u001b[0m\u001b[1;33m)\u001b[0m\u001b[1;33m\u001b[0m\u001b[0m\n\u001b[0m",
      "\u001b[0;32m<ipython-input-95-7b507d45218f>\u001b[0m in \u001b[0;36mneural_network\u001b[0;34m(X_train, X_test, Y_train, Y_test)\u001b[0m\n\u001b[1;32m      1\u001b[0m \u001b[1;32mfrom\u001b[0m \u001b[0msklearn\u001b[0m \u001b[1;32mimport\u001b[0m \u001b[0mneural_network\u001b[0m\u001b[1;33m\u001b[0m\u001b[0m\n\u001b[1;32m      2\u001b[0m \u001b[1;32mdef\u001b[0m \u001b[0mneural_network\u001b[0m\u001b[1;33m(\u001b[0m\u001b[0mX_train\u001b[0m\u001b[1;33m,\u001b[0m \u001b[0mX_test\u001b[0m\u001b[1;33m,\u001b[0m \u001b[0mY_train\u001b[0m\u001b[1;33m,\u001b[0m \u001b[0mY_test\u001b[0m\u001b[1;33m)\u001b[0m\u001b[1;33m:\u001b[0m\u001b[1;33m\u001b[0m\u001b[0m\n\u001b[0;32m----> 3\u001b[0;31m     \u001b[0mneural\u001b[0m\u001b[1;33m=\u001b[0m\u001b[0mneural_network\u001b[0m\u001b[1;33m.\u001b[0m\u001b[0mMLPRegressor\u001b[0m\u001b[1;33m(\u001b[0m\u001b[1;33m)\u001b[0m\u001b[1;33m\u001b[0m\u001b[0m\n\u001b[0m\u001b[1;32m      4\u001b[0m     \u001b[0mneural\u001b[0m\u001b[1;33m.\u001b[0m\u001b[0mfit\u001b[0m\u001b[1;33m(\u001b[0m\u001b[0mX_train\u001b[0m\u001b[1;33m,\u001b[0m\u001b[0mY_train\u001b[0m\u001b[1;33m)\u001b[0m\u001b[1;33m\u001b[0m\u001b[0m\n\u001b[1;32m      5\u001b[0m     \u001b[0mprint\u001b[0m \u001b[1;33m(\u001b[0m\u001b[0mneural\u001b[0m\u001b[1;33m.\u001b[0m\u001b[0mscore\u001b[0m\u001b[1;33m(\u001b[0m\u001b[0mX_test\u001b[0m\u001b[1;33m,\u001b[0m\u001b[0mY_test\u001b[0m\u001b[1;33m)\u001b[0m\u001b[1;33m)\u001b[0m\u001b[1;33m\u001b[0m\u001b[0m\n",
      "\u001b[0;31mAttributeError\u001b[0m: 'function' object has no attribute 'MLPRegressor'"
     ]
    }
   ],
   "source": [
    "from sklearn import neural_network\n",
    "def neural_network(X_train, X_test, Y_train, Y_test):\n",
    "    neural=neural_network.MLPRegressor()\n",
    "    neural.fit(X_train,Y_train)\n",
    "    print (neural.score(X_test,Y_test))\n",
    "neural_network(XPH_train, XPH_test, YPH_train, YPH_test)"
   ]
  },
  {
   "cell_type": "code",
   "execution_count": null,
   "metadata": {
    "collapsed": false,
    "scrolled": false
   },
   "outputs": [
    {
     "name": "stdout",
     "output_type": "stream",
     "text": [
      "0.405338171934\n"
     ]
    }
   ],
   "source": [
    "trees(XPH_train, XPH_test, YPH_train, YPH_test,'mse')\n",
    "trees(XPH_train, XPH_test, YPH_train, YPH_test,'mae')\n",
    "solve_gauss(XPH_train, XPH_test, YPH_train, YPH_test)"
   ]
  },
  {
   "cell_type": "code",
   "execution_count": null,
   "metadata": {
    "collapsed": false
   },
   "outputs": [],
   "source": [
    "trees(XmH_train, XmH_test, YmH_train, YmH_test,'mse')\n",
    "trees(XmH_train, XmH_test, YmH_train, YmH_test,'mae')\n",
    "solve_gauss(XmH_train, XmH_test, YmH_train, YmH_test)"
   ]
  },
  {
   "cell_type": "code",
   "execution_count": null,
   "metadata": {
    "collapsed": false
   },
   "outputs": [],
   "source": [
    "trees(XEH_train, XEH_test, YEH_train, YEH_test,'mse')\n",
    "trees(XEH_train, XEH_test, YEH_train, YEH_test,'mae')\n",
    "solve_gauss(XEH_train, XEH_test, YEH_train, YEH_test)"
   ]
  },
  {
   "cell_type": "code",
   "execution_count": null,
   "metadata": {
    "collapsed": false
   },
   "outputs": [],
   "source": [
    "trees(XPL_train, XPL_test, YPL_train, YPL_test,'mse')\n",
    "trees(XPL_train, XPL_test, YPL_train, YPL_test,'mae')\n",
    "solve_gauss(XPL_train, XPL_test, YPL_train, YPL_test)"
   ]
  },
  {
   "cell_type": "code",
   "execution_count": null,
   "metadata": {
    "collapsed": false
   },
   "outputs": [],
   "source": [
    "trees(XmL_train, XmL_test, YmL_train, YmL_test,'mse')\n",
    "trees(XmL_train, XmL_test, YmL_train, YmL_test,'mae')\n",
    "solve_gauss(XmL_train, XmL_test, YmL_train, YmL_test)"
   ]
  },
  {
   "cell_type": "code",
   "execution_count": null,
   "metadata": {
    "collapsed": false
   },
   "outputs": [],
   "source": [
    "trees(XEL_train, XEL_test, YEL_train, YEL_test,'mse')\n",
    "trees(XEL_train, XEL_test, YEL_train, YEL_test,'mae')\n",
    "solve_gauss(XEL_train, XEL_test, YEL_train, YEL_test)"
   ]
  },
  {
   "cell_type": "code",
   "execution_count": null,
   "metadata": {
    "collapsed": true
   },
   "outputs": [],
   "source": []
  }
 ],
 "metadata": {
  "kernelspec": {
   "display_name": "Python 3",
   "language": "python",
   "name": "python3"
  },
  "language_info": {
   "codemirror_mode": {
    "name": "ipython",
    "version": 3
   },
   "file_extension": ".py",
   "mimetype": "text/x-python",
   "name": "python",
   "nbconvert_exporter": "python",
   "pygments_lexer": "ipython3",
   "version": "3.6.0"
  }
 },
 "nbformat": 4,
 "nbformat_minor": 2
}
