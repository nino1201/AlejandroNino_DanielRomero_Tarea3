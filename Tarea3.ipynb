{
 "cells": [
  {
   "cell_type": "code",
   "execution_count": 1,
   "metadata": {
    "collapsed": false
   },
   "outputs": [
    {
     "name": "stderr",
     "output_type": "stream",
     "text": [
      "/home/nino1201/anaconda3/lib/python3.6/site-packages/numexpr/cpuinfo.py:42: UserWarning: [Errno 2] No such file or directory: 'uname'\n",
      "  warnings.warn(str(e), UserWarning, stacklevel=stacklevel)\n"
     ]
    }
   ],
   "source": [
    "import pandas as pd\n",
    "import numpy as np\n",
    "import matplotlib.pyplot as plt\n",
    "from sklearn import svm\n",
    "from sklearn import datasets\n",
    "from sklearn.datasets import make_classification\n",
    "from sklearn.datasets import make_blobs, make_moons, make_circles\n",
    "from sklearn.model_selection import train_test_split\n",
    "%matplotlib inline"
   ]
  },
  {
   "cell_type": "code",
   "execution_count": 7,
   "metadata": {
    "collapsed": true
   },
   "outputs": [],
   "source": [
    "data = pd.read_csv(\"https://raw.githubusercontent.com/ComputoCienciasUniandes/MetodosComputacionalesDatos/master/homework/2017-10/planetas/lowp_finalresults.csv\")"
   ]
  },
  {
   "cell_type": "code",
   "execution_count": 5,
   "metadata": {
    "collapsed": false
   },
   "outputs": [],
   "source": [
    "dat= pd.read_csv('https://raw.githubusercontent.com/ComputoCienciasUniandes/MetodosComputacionalesDatos/master/homework/2017-10/planetas/highp_finalresults.csv')"
   ]
  },
  {
   "cell_type": "code",
   "execution_count": 35,
   "metadata": {
    "collapsed": false
   },
   "outputs": [],
   "source": [
    "#cuenta el numero de planetas\n",
    "def count_planet(datos):\n",
    "    planets=datos['ident']\n",
    "    sistems=np.zeros(2975)\n",
    "    for i in range(np.size(planets)):\n",
    "        sistems[planets[i]]=sistems[planets[i]]+1\n",
    "    return sistems\n",
    "\n",
    "#Calcula Masa total del sitema\n",
    "def count_totalMass(datos):\n",
    "    planets=datos['ident']\n",
    "    Mass=datos['emepla(i)/emet']\n",
    "    MassSis=np.zeros(2975)\n",
    "    for i in range(np.size(planets)):\n",
    "        MassSis[planets[i]]=MassSis[planets[i]]+Mass[i]\n",
    "    converter(MassSis)\n",
    "    return MassSis\n",
    "\n",
    "#convierte masas terrestreas a masas solares\n",
    "def converter(cosas):\n",
    "    for i in range(np.size(cosas)):\n",
    "        cosas[i]=cosas[i]*0.000003003\n",
    "\n",
    "#calcula masa del disco\n",
    "def Mass_Disk(datos):\n",
    "    planets=datos['ident']\n",
    "    Mass_Disk=datos['emed']\n",
    "    Mass_D=np.zeros(2975)\n",
    "    for i in range(np.size(planets)):\n",
    "        Mass_D[planets[i]]=Mass_Disk[i]\n",
    "    return Mass_D\n",
    "\n",
    "#calcula la eficiencia de Masa\n",
    "def Efi_Mass(datos):\n",
    "    Disk=Mass_Disk(datos)\n",
    "    Total=count_totalMass(datos)\n",
    "    Efi_Mass=np.zeros(2975)\n",
    "    for i in range(2975):\n",
    "        Efi_Mass[i]=Disk[i]/Total[i]\n",
    "    return Efi_Mass\n",
    "\n",
    "def initial_parameters(datos):\n",
    "    initial_P=datos[['emestar','rc','qest','sigmag_0','emed','emetal','taugas']]"
   ]
  },
  {
   "cell_type": "code",
   "execution_count": 32,
   "metadata": {
    "collapsed": false
   },
   "outputs": [
    {
     "name": "stderr",
     "output_type": "stream",
     "text": [
      "/home/nino1201/anaconda3/lib/python3.6/site-packages/ipykernel/__main__.py:34: RuntimeWarning: invalid value encountered in double_scalars\n"
     ]
    }
   ],
   "source": [
    "Num_planetsLow=count_planet(data)\n",
    "Num_planetsHigh=count_planet(dat)\n",
    "Mass_SisHigh=count_totalMass(dat)\n",
    "Mass_SisLow=count_totalMass(data)\n",
    "Mass_EfiHigh=Efi_Mass(dat)\n",
    "Mass_EfiLow=Efi_Mass(data)"
   ]
  },
  {
   "cell_type": "code",
   "execution_count": 43,
   "metadata": {
    "collapsed": false
   },
   "outputs": [
    {
     "data": {
      "text/html": [
       "<div>\n",
       "<table border=\"1\" class=\"dataframe\">\n",
       "  <thead>\n",
       "    <tr style=\"text-align: right;\">\n",
       "      <th></th>\n",
       "      <th>ident</th>\n",
       "      <th>it</th>\n",
       "      <th>t</th>\n",
       "      <th>a(i)</th>\n",
       "      <th>emegas(i)</th>\n",
       "      <th>emepla(i)/emet</th>\n",
       "      <th>rplanet(i)/radtie</th>\n",
       "      <th>emestar</th>\n",
       "      <th>rc</th>\n",
       "      <th>qest</th>\n",
       "      <th>sigmag_0</th>\n",
       "      <th>emed</th>\n",
       "      <th>gama</th>\n",
       "      <th>apert</th>\n",
       "      <th>fpert</th>\n",
       "      <th>constmigI</th>\n",
       "      <th>emetal</th>\n",
       "      <th>taugas</th>\n",
       "    </tr>\n",
       "  </thead>\n",
       "  <tbody>\n",
       "    <tr>\n",
       "      <th>32460</th>\n",
       "      <td>2974</td>\n",
       "      <td>199875</td>\n",
       "      <td>20000001.0</td>\n",
       "      <td>4.403352</td>\n",
       "      <td>0.0</td>\n",
       "      <td>0.568129</td>\n",
       "      <td>1.2753727397384054</td>\n",
       "      <td>4.092467e+32</td>\n",
       "      <td>50.698605</td>\n",
       "      <td>6.853647</td>\n",
       "      <td>9.907135</td>\n",
       "      <td>0.018</td>\n",
       "      <td>1.0</td>\n",
       "      <td>0.3</td>\n",
       "      <td>1.0</td>\n",
       "      <td>0.1</td>\n",
       "      <td>0.408212</td>\n",
       "      <td>7710610.5</td>\n",
       "    </tr>\n",
       "    <tr>\n",
       "      <th>32461</th>\n",
       "      <td>2974</td>\n",
       "      <td>199875</td>\n",
       "      <td>20000001.0</td>\n",
       "      <td>4.998909</td>\n",
       "      <td>0.0</td>\n",
       "      <td>0.346168</td>\n",
       "      <td>1.0811722783677506</td>\n",
       "      <td>4.092467e+32</td>\n",
       "      <td>50.698605</td>\n",
       "      <td>6.853647</td>\n",
       "      <td>9.907135</td>\n",
       "      <td>0.018</td>\n",
       "      <td>1.0</td>\n",
       "      <td>0.3</td>\n",
       "      <td>1.0</td>\n",
       "      <td>0.1</td>\n",
       "      <td>0.408212</td>\n",
       "      <td>7710610.5</td>\n",
       "    </tr>\n",
       "    <tr>\n",
       "      <th>32462</th>\n",
       "      <td>2974</td>\n",
       "      <td>199875</td>\n",
       "      <td>20000001.0</td>\n",
       "      <td>5.472611</td>\n",
       "      <td>0.0</td>\n",
       "      <td>0.205236</td>\n",
       "      <td>0.90869255913863689</td>\n",
       "      <td>4.092467e+32</td>\n",
       "      <td>50.698605</td>\n",
       "      <td>6.853647</td>\n",
       "      <td>9.907135</td>\n",
       "      <td>0.018</td>\n",
       "      <td>1.0</td>\n",
       "      <td>0.3</td>\n",
       "      <td>1.0</td>\n",
       "      <td>0.1</td>\n",
       "      <td>0.408212</td>\n",
       "      <td>7710610.5</td>\n",
       "    </tr>\n",
       "    <tr>\n",
       "      <th>32463</th>\n",
       "      <td>2974</td>\n",
       "      <td>199875</td>\n",
       "      <td>20000001.0</td>\n",
       "      <td>6.079242</td>\n",
       "      <td>0.0</td>\n",
       "      <td>0.285096</td>\n",
       "      <td>1.0137383929400392</td>\n",
       "      <td>4.092467e+32</td>\n",
       "      <td>50.698605</td>\n",
       "      <td>6.853647</td>\n",
       "      <td>9.907135</td>\n",
       "      <td>0.018</td>\n",
       "      <td>1.0</td>\n",
       "      <td>0.3</td>\n",
       "      <td>1.0</td>\n",
       "      <td>0.1</td>\n",
       "      <td>0.408212</td>\n",
       "      <td>7710610.5</td>\n",
       "    </tr>\n",
       "    <tr>\n",
       "      <th>32464</th>\n",
       "      <td>2974</td>\n",
       "      <td>199875</td>\n",
       "      <td>20000001.0</td>\n",
       "      <td>7.411129</td>\n",
       "      <td>0.0</td>\n",
       "      <td>0.074660</td>\n",
       "      <td>0.64875258486623388</td>\n",
       "      <td>4.092467e+32</td>\n",
       "      <td>50.698605</td>\n",
       "      <td>6.853647</td>\n",
       "      <td>9.907135</td>\n",
       "      <td>0.018</td>\n",
       "      <td>1.0</td>\n",
       "      <td>0.3</td>\n",
       "      <td>1.0</td>\n",
       "      <td>0.1</td>\n",
       "      <td>0.408212</td>\n",
       "      <td>7710610.5</td>\n",
       "    </tr>\n",
       "  </tbody>\n",
       "</table>\n",
       "</div>"
      ],
      "text/plain": [
       "       ident      it           t      a(i)  emegas(i)  emepla(i)/emet  \\\n",
       "32460   2974  199875  20000001.0  4.403352        0.0        0.568129   \n",
       "32461   2974  199875  20000001.0  4.998909        0.0        0.346168   \n",
       "32462   2974  199875  20000001.0  5.472611        0.0        0.205236   \n",
       "32463   2974  199875  20000001.0  6.079242        0.0        0.285096   \n",
       "32464   2974  199875  20000001.0  7.411129        0.0        0.074660   \n",
       "\n",
       "                 rplanet(i)/radtie       emestar         rc      qest  \\\n",
       "32460     1.2753727397384054        4.092467e+32  50.698605  6.853647   \n",
       "32461     1.0811722783677506        4.092467e+32  50.698605  6.853647   \n",
       "32462    0.90869255913863689        4.092467e+32  50.698605  6.853647   \n",
       "32463     1.0137383929400392        4.092467e+32  50.698605  6.853647   \n",
       "32464    0.64875258486623388        4.092467e+32  50.698605  6.853647   \n",
       "\n",
       "       sigmag_0   emed  gama  apert  fpert  constmigI    emetal     taugas  \n",
       "32460  9.907135  0.018   1.0    0.3    1.0        0.1  0.408212  7710610.5  \n",
       "32461  9.907135  0.018   1.0    0.3    1.0        0.1  0.408212  7710610.5  \n",
       "32462  9.907135  0.018   1.0    0.3    1.0        0.1  0.408212  7710610.5  \n",
       "32463  9.907135  0.018   1.0    0.3    1.0        0.1  0.408212  7710610.5  \n",
       "32464  9.907135  0.018   1.0    0.3    1.0        0.1  0.408212  7710610.5  "
      ]
     },
     "execution_count": 43,
     "metadata": {},
     "output_type": "execute_result"
    }
   ],
   "source": [
    "dat.tail()"
   ]
  },
  {
   "cell_type": "code",
   "execution_count": 42,
   "metadata": {
    "collapsed": false
   },
   "outputs": [
    {
     "data": {
      "text/plain": [
       "0        0.1\n",
       "1        0.1\n",
       "2        0.1\n",
       "3        0.1\n",
       "4        0.1\n",
       "5        0.1\n",
       "6        0.1\n",
       "7        0.1\n",
       "8        0.1\n",
       "9        0.1\n",
       "10       0.1\n",
       "11       0.1\n",
       "12       0.1\n",
       "13       0.1\n",
       "14       0.1\n",
       "15       0.1\n",
       "16       0.1\n",
       "17       0.1\n",
       "18       0.1\n",
       "19       0.1\n",
       "20       0.1\n",
       "21       0.1\n",
       "22       0.1\n",
       "23       0.1\n",
       "24       0.1\n",
       "25       0.1\n",
       "26       0.1\n",
       "27       0.1\n",
       "28       0.1\n",
       "29       0.1\n",
       "        ... \n",
       "31788    0.1\n",
       "31789    0.1\n",
       "31790    0.1\n",
       "31791    0.1\n",
       "31792    0.1\n",
       "31793    0.1\n",
       "31794    0.1\n",
       "31795    0.1\n",
       "31796    0.1\n",
       "31797    0.1\n",
       "31798    0.1\n",
       "31799    0.1\n",
       "31800    0.1\n",
       "31801    0.1\n",
       "31802    0.1\n",
       "31803    0.1\n",
       "31804    0.1\n",
       "31805    0.1\n",
       "31806    0.1\n",
       "31807    0.1\n",
       "31808    0.1\n",
       "31809    0.1\n",
       "31810    0.1\n",
       "31811    0.1\n",
       "31812    0.1\n",
       "31813    0.1\n",
       "31814    0.1\n",
       "31815    0.1\n",
       "31816    0.1\n",
       "31817    0.1\n",
       "Name: apert, dtype: float64"
      ]
     },
     "execution_count": 42,
     "metadata": {},
     "output_type": "execute_result"
    }
   ],
   "source": [
    "data['apert']"
   ]
  },
  {
   "cell_type": "code",
   "execution_count": null,
   "metadata": {
    "collapsed": true
   },
   "outputs": [],
   "source": []
  }
 ],
 "metadata": {
  "kernelspec": {
   "display_name": "Python 3",
   "language": "python",
   "name": "python3"
  },
  "language_info": {
   "codemirror_mode": {
    "name": "ipython",
    "version": 3
   },
   "file_extension": ".py",
   "mimetype": "text/x-python",
   "name": "python",
   "nbconvert_exporter": "python",
   "pygments_lexer": "ipython3",
   "version": "3.6.0"
  }
 },
 "nbformat": 4,
 "nbformat_minor": 2
}
